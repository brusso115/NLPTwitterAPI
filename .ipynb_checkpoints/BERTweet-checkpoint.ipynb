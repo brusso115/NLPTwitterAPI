{
 "cells": [
  {
   "cell_type": "code",
   "execution_count": null,
   "metadata": {
    "executionInfo": {
     "elapsed": 1432,
     "status": "ok",
     "timestamp": 1627416724081,
     "user": {
      "displayName": "Bailey Russo",
      "photoUrl": "",
      "userId": "03871487765897215538"
     },
     "user_tz": 240
    },
    "id": "SMWvcgs-IktU"
   },
   "outputs": [],
   "source": [
    "import tensorflow as tf"
   ]
  },
  {
   "cell_type": "code",
   "execution_count": null,
   "metadata": {
    "colab": {
     "base_uri": "https://localhost:8080/"
    },
    "executionInfo": {
     "elapsed": 7,
     "status": "ok",
     "timestamp": 1627416724083,
     "user": {
      "displayName": "Bailey Russo",
      "photoUrl": "",
      "userId": "03871487765897215538"
     },
     "user_tz": 240
    },
    "id": "4ljdqVirsaG0",
    "outputId": "9f855cb8-4068-412f-9ded-1eae6a080833"
   },
   "outputs": [],
   "source": [
    "# from google.colab import drive\n",
    "# drive.mount('/content/drive')"
   ]
  },
  {
   "cell_type": "code",
   "execution_count": null,
   "metadata": {
    "colab": {
     "base_uri": "https://localhost:8080/"
    },
    "executionInfo": {
     "elapsed": 7737,
     "status": "ok",
     "timestamp": 1627416731816,
     "user": {
      "displayName": "Bailey Russo",
      "photoUrl": "",
      "userId": "03871487765897215538"
     },
     "user_tz": 240
    },
    "id": "v1J_wU_KR9n0",
    "outputId": "e831360a-da86-4727-e486-00c58631fec3"
   },
   "outputs": [],
   "source": [
    "# !pip install tensorflow_text\n",
    "# !pip install transformers\n",
    "# !pip install emoji"
   ]
  },
  {
   "cell_type": "code",
   "execution_count": null,
   "metadata": {
    "executionInfo": {
     "elapsed": 1038,
     "status": "ok",
     "timestamp": 1627416732842,
     "user": {
      "displayName": "Bailey Russo",
      "photoUrl": "",
      "userId": "03871487765897215538"
     },
     "user_tz": 240
    },
    "id": "bELVxPgGIuK6"
   },
   "outputs": [],
   "source": [
    "import numpy as np\n",
    "import pandas as pd\n",
    "import plotly.express as px\n",
    "import string\n",
    "from nltk.corpus import stopwords\n",
    "from nltk.stem import WordNetLemmatizer\n",
    "from tensorflow.keras.layers import LSTM\n",
    "from sklearn.utils import shuffle\n",
    "from sklearn.metrics import accuracy_score\n",
    "from transformers import TFBertForSequenceClassification\n",
    "from tensorflow import keras\n",
    "import os\n",
    "import shutil\n",
    "from sklearn.model_selection import train_test_split\n",
    "from transformers import TFAutoModel, AutoTokenizer\n",
    "import matplotlib.pyplot as plt\n",
    "tf.get_logger().setLevel('ERROR')\n",
    "#from google.colab import drive"
   ]
  },
  {
   "cell_type": "code",
   "execution_count": null,
   "metadata": {
    "colab": {
     "base_uri": "https://localhost:8080/"
    },
    "executionInfo": {
     "elapsed": 6,
     "status": "ok",
     "timestamp": 1627416732844,
     "user": {
      "displayName": "Bailey Russo",
      "photoUrl": "",
      "userId": "03871487765897215538"
     },
     "user_tz": 240
    },
    "id": "qmHVXgO4tIgZ",
    "outputId": "d0de7308-99de-4e92-dbf6-662587680b58"
   },
   "outputs": [],
   "source": [
    "#drive.mount('/content/drive')"
   ]
  },
  {
   "cell_type": "markdown",
   "metadata": {},
   "source": [
    "# Data Preprocessing"
   ]
  },
  {
   "cell_type": "code",
   "execution_count": null,
   "metadata": {
    "executionInfo": {
     "elapsed": 3931,
     "status": "ok",
     "timestamp": 1627416736771,
     "user": {
      "displayName": "Bailey Russo",
      "photoUrl": "",
      "userId": "03871487765897215538"
     },
     "user_tz": 240
    },
    "id": "92hDsvZVtJvx"
   },
   "outputs": [],
   "source": [
    "df = pd.read_csv('training.1600000.processed.noemoticon.csv',encoding='latin-1',header=None)"
   ]
  },
  {
   "cell_type": "code",
   "execution_count": null,
   "metadata": {
    "executionInfo": {
     "elapsed": 303,
     "status": "ok",
     "timestamp": 1627416737063,
     "user": {
      "displayName": "Bailey Russo",
      "photoUrl": "",
      "userId": "03871487765897215538"
     },
     "user_tz": 240
    },
    "id": "mCf3KrCytM18"
   },
   "outputs": [],
   "source": [
    "# Convert labels with 4 to 1\n",
    "df[0] = df[0].apply(lambda x : 1 if x > 0 else 0)"
   ]
  },
  {
   "cell_type": "code",
   "execution_count": null,
   "metadata": {
    "executionInfo": {
     "elapsed": 1090,
     "status": "ok",
     "timestamp": 1627416738151,
     "user": {
      "displayName": "Bailey Russo",
      "photoUrl": "",
      "userId": "03871487765897215538"
     },
     "user_tz": 240
    },
    "id": "qiyS1uiudEgm"
   },
   "outputs": [],
   "source": [
    "df = shuffle(df)"
   ]
  },
  {
   "cell_type": "code",
   "execution_count": null,
   "metadata": {
    "executionInfo": {
     "elapsed": 8,
     "status": "ok",
     "timestamp": 1627416738155,
     "user": {
      "displayName": "Bailey Russo",
      "photoUrl": "",
      "userId": "03871487765897215538"
     },
     "user_tz": 240
    },
    "id": "s4N45Fc5wezu"
   },
   "outputs": [],
   "source": [
    "test = df[500:1000] #df[1280000:1600000]\n",
    "df = df[0:500] #df[:1280000]"
   ]
  },
  {
   "cell_type": "code",
   "execution_count": null,
   "metadata": {
    "executionInfo": {
     "elapsed": 2781,
     "status": "ok",
     "timestamp": 1627416740931,
     "user": {
      "displayName": "Bailey Russo",
      "photoUrl": "",
      "userId": "03871487765897215538"
     },
     "user_tz": 240
    },
    "id": "iLlsO4kDsLe4"
   },
   "outputs": [],
   "source": [
    "tokenizer = AutoTokenizer.from_pretrained(\"vinai/bertweet-base\")"
   ]
  },
  {
   "cell_type": "code",
   "execution_count": null,
   "metadata": {
    "executionInfo": {
     "elapsed": 6,
     "status": "ok",
     "timestamp": 1627416740932,
     "user": {
      "displayName": "Bailey Russo",
      "photoUrl": "",
      "userId": "03871487765897215538"
     },
     "user_tz": 240
    },
    "id": "McDPiXV7sOxw"
   },
   "outputs": [],
   "source": [
    "labels = df[0]"
   ]
  },
  {
   "cell_type": "code",
   "execution_count": null,
   "metadata": {
    "executionInfo": {
     "elapsed": 6,
     "status": "ok",
     "timestamp": 1627416740933,
     "user": {
      "displayName": "Bailey Russo",
      "photoUrl": "",
      "userId": "03871487765897215538"
     },
     "user_tz": 240
    },
    "id": "pwcmuNRltkHs"
   },
   "outputs": [],
   "source": [
    "SEQ_LEN = 65\n",
    "def tokenize(sentence):\n",
    "    tokens = tokenizer.encode_plus(sentence, max_length=SEQ_LEN,\n",
    "                                   truncation=True, padding='max_length',\n",
    "                                   add_special_tokens=True, return_attention_mask=True,\n",
    "                                   return_token_type_ids=False, return_tensors='tf')\n",
    "    return tokens['input_ids'], tokens['attention_mask']"
   ]
  },
  {
   "cell_type": "code",
   "execution_count": null,
   "metadata": {
    "executionInfo": {
     "elapsed": 5,
     "status": "ok",
     "timestamp": 1627416740933,
     "user": {
      "displayName": "Bailey Russo",
      "photoUrl": "",
      "userId": "03871487765897215538"
     },
     "user_tz": 240
    },
    "id": "UVbtbB6Gtn0L"
   },
   "outputs": [],
   "source": [
    "Xids = np.zeros((len(df), SEQ_LEN))\n",
    "Xmask = np.zeros((len(df), SEQ_LEN))"
   ]
  },
  {
   "cell_type": "code",
   "execution_count": null,
   "metadata": {
    "executionInfo": {
     "elapsed": 759,
     "status": "ok",
     "timestamp": 1627416741687,
     "user": {
      "displayName": "Bailey Russo",
      "photoUrl": "",
      "userId": "03871487765897215538"
     },
     "user_tz": 240
    },
    "id": "VjL88Gsktowc"
   },
   "outputs": [],
   "source": [
    "for i, sentence in enumerate(df[5]):\n",
    "    Xids[i, :], Xmask[i, :] = tokenize(sentence)"
   ]
  },
  {
   "cell_type": "code",
   "execution_count": null,
   "metadata": {
    "executionInfo": {
     "elapsed": 7,
     "status": "ok",
     "timestamp": 1627416741688,
     "user": {
      "displayName": "Bailey Russo",
      "photoUrl": "",
      "userId": "03871487765897215538"
     },
     "user_tz": 240
    },
    "id": "7Pfe2T0HA_mI"
   },
   "outputs": [],
   "source": [
    "with open('xids.npy','wb') as f:\n",
    "    np.save(f, Xids)\n",
    "\n",
    "with open('xmask.npy', 'wb') as f:\n",
    "    np.save(f, Xmask)\n",
    "\n",
    "with open('labels.npy', 'wb') as f:\n",
    "    np.save(f, labels)\n",
    "\n",
    "del df, Xids, Xmask, labels"
   ]
  },
  {
   "cell_type": "code",
   "execution_count": null,
   "metadata": {
    "executionInfo": {
     "elapsed": 6,
     "status": "ok",
     "timestamp": 1627416741689,
     "user": {
      "displayName": "Bailey Russo",
      "photoUrl": "",
      "userId": "03871487765897215538"
     },
     "user_tz": 240
    },
    "id": "eEyuDezvCEZn"
   },
   "outputs": [],
   "source": [
    "with open('xids.npy','rb') as fp:\n",
    "    Xids = np.load(fp)\n",
    "\n",
    "with open('xmask.npy', 'rb') as fp:\n",
    "    Xmask = np.load(fp)\n",
    "\n",
    "with open('labels.npy', 'rb') as fp:\n",
    "    labels = np.load(fp)\n",
    "\n"
   ]
  },
  {
   "cell_type": "code",
   "execution_count": null,
   "metadata": {
    "executionInfo": {
     "elapsed": 6,
     "status": "ok",
     "timestamp": 1627416741689,
     "user": {
      "displayName": "Bailey Russo",
      "photoUrl": "",
      "userId": "03871487765897215538"
     },
     "user_tz": 240
    },
    "id": "t6tZSeKWtsnI"
   },
   "outputs": [],
   "source": [
    "dataset = tf.data.Dataset.from_tensor_slices((Xids, Xmask, labels))\n"
   ]
  },
  {
   "cell_type": "code",
   "execution_count": null,
   "metadata": {
    "executionInfo": {
     "elapsed": 6,
     "status": "ok",
     "timestamp": 1627416741690,
     "user": {
      "displayName": "Bailey Russo",
      "photoUrl": "",
      "userId": "03871487765897215538"
     },
     "user_tz": 240
    },
    "id": "L6qNZ16Rtu2W"
   },
   "outputs": [],
   "source": [
    "# restructure dataset format for BERT\n",
    "def map_func(input_ids, masks, labels):\n",
    "    return {'input_ids': input_ids, 'attention_mask': masks}, labels\n",
    "\n",
    "# apply the mapping function\n",
    "dataset = dataset.map(map_func)"
   ]
  },
  {
   "cell_type": "code",
   "execution_count": null,
   "metadata": {
    "executionInfo": {
     "elapsed": 188,
     "status": "ok",
     "timestamp": 1627416741872,
     "user": {
      "displayName": "Bailey Russo",
      "photoUrl": "",
      "userId": "03871487765897215538"
     },
     "user_tz": 240
    },
    "id": "eQjmX6g9tzHa"
   },
   "outputs": [],
   "source": [
    "# shuffle and batch the dataset\n",
    "dataset = dataset.shuffle(10000).batch(32)\n",
    "\n",
    "# get dataset length\n",
    "DS_LEN = len(list(dataset))  \n",
    "\n",
    "# create 90-10 split\n",
    "SPLIT = 0.9\n",
    "\n",
    "# create training-validation sets\n",
    "train = dataset.take(round(DS_LEN*SPLIT))\n",
    "val = dataset.skip(round(DS_LEN*SPLIT))"
   ]
  },
  {
   "cell_type": "markdown",
   "metadata": {},
   "source": [
    "# Build model"
   ]
  },
  {
   "cell_type": "code",
   "execution_count": null,
   "metadata": {
    "executionInfo": {
     "elapsed": 4,
     "status": "ok",
     "timestamp": 1627416741873,
     "user": {
      "displayName": "Bailey Russo",
      "photoUrl": "",
      "userId": "03871487765897215538"
     },
     "user_tz": 240
    },
    "id": "zCeyuySmt3iM"
   },
   "outputs": [],
   "source": [
    "# build the model\n",
    "input_ids = tf.keras.layers.Input(shape=(SEQ_LEN,), name='input_ids', dtype='int32')\n",
    "mask = tf.keras.layers.Input(shape=(SEQ_LEN,), name='attention_mask', dtype='int32')\n"
   ]
  },
  {
   "cell_type": "code",
   "execution_count": null,
   "metadata": {
    "colab": {
     "base_uri": "https://localhost:8080/"
    },
    "executionInfo": {
     "elapsed": 2072,
     "status": "ok",
     "timestamp": 1627416743941,
     "user": {
      "displayName": "Bailey Russo",
      "photoUrl": "",
      "userId": "03871487765897215538"
     },
     "user_tz": 240
    },
    "id": "l7H1V7TOIvHe",
    "outputId": "42c521e1-f266-4416-92dc-6bdcaed2e107"
   },
   "outputs": [],
   "source": [
    "bertweet = TFAutoModel.from_pretrained(\"vinai/bertweet-base\")"
   ]
  },
  {
   "cell_type": "code",
   "execution_count": null,
   "metadata": {
    "executionInfo": {
     "elapsed": 4481,
     "status": "ok",
     "timestamp": 1627416748420,
     "user": {
      "displayName": "Bailey Russo",
      "photoUrl": "",
      "userId": "03871487765897215538"
     },
     "user_tz": 240
    },
    "id": "atxypF2Vt59T"
   },
   "outputs": [],
   "source": [
    "# get last hidden state only\n",
    "embeddings = bertweet.roberta(input_ids, attention_mask=mask)[0]\n",
    "\n",
    "X = tf.keras.layers.Dropout(0.1)(embeddings)\n",
    "X = tf.keras.layers.Bidirectional(tf.keras.layers.LSTM(768))(X)\n",
    "y = tf.keras.layers.Dense(1, activation='sigmoid', name='outputs')(X)\n"
   ]
  },
  {
   "cell_type": "code",
   "execution_count": null,
   "metadata": {
    "executionInfo": {
     "elapsed": 24,
     "status": "ok",
     "timestamp": 1627416748431,
     "user": {
      "displayName": "Bailey Russo",
      "photoUrl": "",
      "userId": "03871487765897215538"
     },
     "user_tz": 240
    },
    "id": "H0Zdi4toKGxE"
   },
   "outputs": [],
   "source": [
    "model = tf.keras.Model(inputs=[input_ids, mask], outputs=y)"
   ]
  },
  {
   "cell_type": "code",
   "execution_count": null,
   "metadata": {
    "executionInfo": {
     "elapsed": 24,
     "status": "ok",
     "timestamp": 1627416748432,
     "user": {
      "displayName": "Bailey Russo",
      "photoUrl": "",
      "userId": "03871487765897215538"
     },
     "user_tz": 240
    },
    "id": "pgPrntqot7Ag"
   },
   "outputs": [],
   "source": [
    "# freeze bertweet layer during training\n",
    "model.layers[2].trainable = False"
   ]
  },
  {
   "cell_type": "code",
   "execution_count": null,
   "metadata": {
    "executionInfo": {
     "elapsed": 23,
     "status": "ok",
     "timestamp": 1627416748432,
     "user": {
      "displayName": "Bailey Russo",
      "photoUrl": "",
      "userId": "03871487765897215538"
     },
     "user_tz": 240
    },
    "id": "cD-xU6EWt-p9"
   },
   "outputs": [],
   "source": [
    "optimizer = tf.keras.optimizers.Adam(0.01)\n",
    "loss = tf.keras.losses.BinaryCrossentropy()\n",
    "acc = tf.keras.metrics.BinaryAccuracy('accuracy')"
   ]
  },
  {
   "cell_type": "code",
   "execution_count": null,
   "metadata": {
    "executionInfo": {
     "elapsed": 24,
     "status": "ok",
     "timestamp": 1627416748433,
     "user": {
      "displayName": "Bailey Russo",
      "photoUrl": "",
      "userId": "03871487765897215538"
     },
     "user_tz": 240
    },
    "id": "V7Fsx-IcuBkt"
   },
   "outputs": [],
   "source": [
    "model.compile(optimizer=optimizer, loss=loss, metrics=[acc])"
   ]
  },
  {
   "cell_type": "code",
   "execution_count": null,
   "metadata": {
    "colab": {
     "base_uri": "https://localhost:8080/"
    },
    "executionInfo": {
     "elapsed": 16169,
     "status": "ok",
     "timestamp": 1627416764579,
     "user": {
      "displayName": "Bailey Russo",
      "photoUrl": "",
      "userId": "03871487765897215538"
     },
     "user_tz": 240
    },
    "id": "qJi342v7uCXm",
    "outputId": "fef933e5-ff82-48b6-9341-5c2def7f116a"
   },
   "outputs": [],
   "source": [
    "history = model.fit(train,\n",
    "                    validation_data = val,\n",
    "                    epochs=1)"
   ]
  },
  {
   "cell_type": "markdown",
   "metadata": {},
   "source": [
    "# Save and Load Model"
   ]
  },
  {
   "cell_type": "code",
   "execution_count": null,
   "metadata": {
    "executionInfo": {
     "elapsed": 2061,
     "status": "ok",
     "timestamp": 1627416766627,
     "user": {
      "displayName": "Bailey Russo",
      "photoUrl": "",
      "userId": "03871487765897215538"
     },
     "user_tz": 240
    },
    "id": "UymynAGX-7cK"
   },
   "outputs": [],
   "source": [
    "#tf.keras.models.save_model(model, 'drive/MyDrive/twitter-sentiment-model-2', overwrite=True, include_optimizer=True, save_format=\"tf\")\n"
   ]
  },
  {
   "cell_type": "code",
   "execution_count": null,
   "metadata": {},
   "outputs": [],
   "source": [
    "loaded_model = tf.keras.models.load_model('twitter-sentiment-model-2')"
   ]
  },
  {
   "cell_type": "markdown",
   "metadata": {},
   "source": [
    "# Using model on test data"
   ]
  },
  {
   "cell_type": "code",
   "execution_count": null,
   "metadata": {
    "executionInfo": {
     "elapsed": 6,
     "status": "ok",
     "timestamp": 1627416766629,
     "user": {
      "displayName": "Bailey Russo",
      "photoUrl": "",
      "userId": "03871487765897215538"
     },
     "user_tz": 240
    },
    "id": "coiwXflkXd9t"
   },
   "outputs": [],
   "source": [
    "single_test_ids = np.zeros((len(test), SEQ_LEN))\n",
    "single_test_mask = np.zeros((len(test), SEQ_LEN))"
   ]
  },
  {
   "cell_type": "code",
   "execution_count": null,
   "metadata": {
    "colab": {
     "base_uri": "https://localhost:8080/"
    },
    "executionInfo": {
     "elapsed": 443,
     "status": "ok",
     "timestamp": 1627416767066,
     "user": {
      "displayName": "Bailey Russo",
      "photoUrl": "",
      "userId": "03871487765897215538"
     },
     "user_tz": 240
    },
    "id": "hDksQ2vPXIyx",
    "outputId": "4919897d-cb69-47b6-f02c-a2336f88ed13"
   },
   "outputs": [],
   "source": [
    "for i, sentence in enumerate(test[5]):\n",
    "    print(sentence)\n",
    "    single_test_ids[i, :], single_test_mask[i, :] = tokenize(sentence)\n",
    "\n",
    "\n"
   ]
  },
  {
   "cell_type": "code",
   "execution_count": null,
   "metadata": {
    "executionInfo": {
     "elapsed": 4431,
     "status": "ok",
     "timestamp": 1627416771495,
     "user": {
      "displayName": "Bailey Russo",
      "photoUrl": "",
      "userId": "03871487765897215538"
     },
     "user_tz": 240
    },
    "id": "KQpzQ5CMlzxl"
   },
   "outputs": [],
   "source": [
    "predictions = loaded_model.predict([single_test_ids, single_test_mask])"
   ]
  },
  {
   "cell_type": "code",
   "execution_count": null,
   "metadata": {},
   "outputs": [],
   "source": []
  }
 ],
 "metadata": {
  "accelerator": "GPU",
  "colab": {
   "authorship_tag": "ABX9TyNh55plVzhHdPiNrxIQWzcE",
   "collapsed_sections": [],
   "mount_file_id": "1d1qJbUiSyb4rJZhQpr4hCcIq9Nev6vn7",
   "name": "BERTweet.ipynb",
   "provenance": []
  },
  "kernelspec": {
   "display_name": "Python 3",
   "language": "python",
   "name": "python3"
  },
  "language_info": {
   "codemirror_mode": {
    "name": "ipython",
    "version": 3
   },
   "file_extension": ".py",
   "mimetype": "text/x-python",
   "name": "python",
   "nbconvert_exporter": "python",
   "pygments_lexer": "ipython3",
   "version": "3.8.8"
  }
 },
 "nbformat": 4,
 "nbformat_minor": 1
}
